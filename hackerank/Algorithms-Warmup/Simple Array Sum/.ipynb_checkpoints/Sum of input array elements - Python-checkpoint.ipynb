{
 "cells": [
  {
   "cell_type": "code",
   "execution_count": 9,
   "metadata": {},
   "outputs": [
    {
     "name": "stdout",
     "output_type": "stream",
     "text": [
      "1 2 3 4\n",
      "<class 'map'>\n",
      "10\n"
     ]
    }
   ],
   "source": [
    "numArray = map(int, input().split()) # Get the input\n",
    "\n",
    "sum_integer = 0\n",
    "# write your logic to add these 4 numbers here\n",
    "\n",
    "sum_integer = sum(numArray)\n",
    "\n",
    "print(sum_integer) # Print the sum"
   ]
  }
 ],
 "metadata": {
  "kernelspec": {
   "display_name": "Python 3",
   "language": "python",
   "name": "python3"
  },
  "language_info": {
   "codemirror_mode": {
    "name": "ipython",
    "version": 3
   },
   "file_extension": ".py",
   "mimetype": "text/x-python",
   "name": "python",
   "nbconvert_exporter": "python",
   "pygments_lexer": "ipython3",
   "version": "3.5.2"
  }
 },
 "nbformat": 4,
 "nbformat_minor": 2
}
